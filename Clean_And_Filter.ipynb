{
 "cells": [
  {
   "cell_type": "code",
   "execution_count": 1,
   "id": "b567410d",
   "metadata": {},
   "outputs": [],
   "source": [
    "\"\"\"\n",
    "Yelp data cleaning script for a much smaller sample dataset.\n",
    "This version aggressively filters and samples to reduce size.\n",
    "\"\"\"\n",
    "import os\n",
    "import pandas as pd\n",
    "import numpy as np\n",
    "from datetime import datetime\n",
    "from hashlib import md5\n",
    "from sklearn.cluster import DBSCAN\n",
    "from scipy.stats import zscore\n",
    "from vaderSentiment.vaderSentiment import SentimentIntensityAnalyzer"
   ]
  },
  {
   "cell_type": "code",
   "execution_count": 2,
   "id": "5d31cf1d",
   "metadata": {},
   "outputs": [],
   "source": [
    "# Configuration: sample sizes and thresholds\n",
    "OUTPUT_DIR = \"data_filtered\"\n",
    "os.makedirs(OUTPUT_DIR, exist_ok=True)\n",
    "\n",
    "BUSINESS_SAMPLE = 1000     # number of businesses to keep\n",
    "MIN_BUSINESS_REVIEWS = 20 # min reviews per business\n",
    "REVIEW_SAMPLE_PER_BIZ = 50\n",
    "MIN_USER_REVIEWS = 5\n",
    "MIN_TIPS_PER_BIZ = 5\n",
    "MIN_CHECKINS_PER_BIZ = 5\n",
    "DATE_MIN, DATE_MAX = \"2011-01-01\", \"2016-12-31\""
   ]
  },
  {
   "cell_type": "code",
   "execution_count": 3,
   "id": "426494d1",
   "metadata": {},
   "outputs": [],
   "source": [
    "\n",
    "# Helper functions\n",
    "\n",
    "def is_valid_hours(h):\n",
    "    if not isinstance(h, dict): return False\n",
    "    ok = []\n",
    "    for v in h.values():\n",
    "        try:\n",
    "            s,e = v.split(\"-\")\n",
    "            ok.append(int(s.replace(\":\", \"\")) < int(e.replace(\":\", \"\")))\n",
    "        except:\n",
    "            ok.append(False)\n",
    "    return all(ok)"
   ]
  },
  {
   "cell_type": "code",
   "execution_count": 4,
   "id": "41a2e5a9",
   "metadata": {},
   "outputs": [
    {
     "name": "stdout",
     "output_type": "stream",
     "text": [
      "Saved 1000 businesses\n"
     ]
    }
   ],
   "source": [
    "# 1) Businesses\n",
    "biz = pd.read_json(\"Data/business.json\", lines=True)\n",
    "# Drop missing critical fields\n",
    "biz = biz.dropna(subset=[\"business_id\", \"name\", \"city\", \"state\", \"latitude\", \"longitude\"])\n",
    "# Only open businesses with enough reviews\n",
    "biz = biz[(biz.is_open == 1) & (biz.review_count >= MIN_BUSINESS_REVIEWS)]\n",
    "# Valid hours only\n",
    "biz = biz[biz.hours.apply(is_valid_hours)]\n",
    "# Round stars\n",
    "biz.stars = (biz.stars * 2).round() / 2\n",
    "# Select top by review_count then sample\n",
    "biz = biz.sort_values(\"review_count\", ascending=False).head(BUSINESS_SAMPLE)\n",
    "biz.to_csv(os.path.join(OUTPUT_DIR, \"business_filtered.csv\"), index=False)\n",
    "print(f\"Saved {len(biz)} businesses\")"
   ]
  },
  {
   "cell_type": "code",
   "execution_count": 5,
   "id": "29799918",
   "metadata": {},
   "outputs": [
    {
     "name": "stderr",
     "output_type": "stream",
     "text": [
      "C:\\Users\\jiyen\\AppData\\Local\\Temp\\ipykernel_26540\\2638533007.py:21: DeprecationWarning: DataFrameGroupBy.apply operated on the grouping columns. This behavior is deprecated, and in a future version of pandas the grouping columns will be excluded from the operation. Either pass `include_groups=False` to exclude the groupings or explicitly select the grouping columns after groupby to silence this warning.\n",
      "  chunk = chunk.groupby('business_id').apply(lambda df: df.sample(min(len(df), REVIEW_SAMPLE_PER_BIZ))).reset_index(drop=True)\n",
      "C:\\Users\\jiyen\\AppData\\Local\\Temp\\ipykernel_26540\\2638533007.py:21: DeprecationWarning: DataFrameGroupBy.apply operated on the grouping columns. This behavior is deprecated, and in a future version of pandas the grouping columns will be excluded from the operation. Either pass `include_groups=False` to exclude the groupings or explicitly select the grouping columns after groupby to silence this warning.\n",
      "  chunk = chunk.groupby('business_id').apply(lambda df: df.sample(min(len(df), REVIEW_SAMPLE_PER_BIZ))).reset_index(drop=True)\n",
      "C:\\Users\\jiyen\\AppData\\Local\\Temp\\ipykernel_26540\\2638533007.py:21: DeprecationWarning: DataFrameGroupBy.apply operated on the grouping columns. This behavior is deprecated, and in a future version of pandas the grouping columns will be excluded from the operation. Either pass `include_groups=False` to exclude the groupings or explicitly select the grouping columns after groupby to silence this warning.\n",
      "  chunk = chunk.groupby('business_id').apply(lambda df: df.sample(min(len(df), REVIEW_SAMPLE_PER_BIZ))).reset_index(drop=True)\n",
      "C:\\Users\\jiyen\\AppData\\Local\\Temp\\ipykernel_26540\\2638533007.py:21: DeprecationWarning: DataFrameGroupBy.apply operated on the grouping columns. This behavior is deprecated, and in a future version of pandas the grouping columns will be excluded from the operation. Either pass `include_groups=False` to exclude the groupings or explicitly select the grouping columns after groupby to silence this warning.\n",
      "  chunk = chunk.groupby('business_id').apply(lambda df: df.sample(min(len(df), REVIEW_SAMPLE_PER_BIZ))).reset_index(drop=True)\n",
      "C:\\Users\\jiyen\\AppData\\Local\\Temp\\ipykernel_26540\\2638533007.py:21: DeprecationWarning: DataFrameGroupBy.apply operated on the grouping columns. This behavior is deprecated, and in a future version of pandas the grouping columns will be excluded from the operation. Either pass `include_groups=False` to exclude the groupings or explicitly select the grouping columns after groupby to silence this warning.\n",
      "  chunk = chunk.groupby('business_id').apply(lambda df: df.sample(min(len(df), REVIEW_SAMPLE_PER_BIZ))).reset_index(drop=True)\n",
      "C:\\Users\\jiyen\\AppData\\Local\\Temp\\ipykernel_26540\\2638533007.py:21: DeprecationWarning: DataFrameGroupBy.apply operated on the grouping columns. This behavior is deprecated, and in a future version of pandas the grouping columns will be excluded from the operation. Either pass `include_groups=False` to exclude the groupings or explicitly select the grouping columns after groupby to silence this warning.\n",
      "  chunk = chunk.groupby('business_id').apply(lambda df: df.sample(min(len(df), REVIEW_SAMPLE_PER_BIZ))).reset_index(drop=True)\n",
      "C:\\Users\\jiyen\\AppData\\Local\\Temp\\ipykernel_26540\\2638533007.py:21: DeprecationWarning: DataFrameGroupBy.apply operated on the grouping columns. This behavior is deprecated, and in a future version of pandas the grouping columns will be excluded from the operation. Either pass `include_groups=False` to exclude the groupings or explicitly select the grouping columns after groupby to silence this warning.\n",
      "  chunk = chunk.groupby('business_id').apply(lambda df: df.sample(min(len(df), REVIEW_SAMPLE_PER_BIZ))).reset_index(drop=True)\n",
      "C:\\Users\\jiyen\\AppData\\Local\\Temp\\ipykernel_26540\\2638533007.py:21: DeprecationWarning: DataFrameGroupBy.apply operated on the grouping columns. This behavior is deprecated, and in a future version of pandas the grouping columns will be excluded from the operation. Either pass `include_groups=False` to exclude the groupings or explicitly select the grouping columns after groupby to silence this warning.\n",
      "  chunk = chunk.groupby('business_id').apply(lambda df: df.sample(min(len(df), REVIEW_SAMPLE_PER_BIZ))).reset_index(drop=True)\n",
      "C:\\Users\\jiyen\\AppData\\Local\\Temp\\ipykernel_26540\\2638533007.py:21: DeprecationWarning: DataFrameGroupBy.apply operated on the grouping columns. This behavior is deprecated, and in a future version of pandas the grouping columns will be excluded from the operation. Either pass `include_groups=False` to exclude the groupings or explicitly select the grouping columns after groupby to silence this warning.\n",
      "  chunk = chunk.groupby('business_id').apply(lambda df: df.sample(min(len(df), REVIEW_SAMPLE_PER_BIZ))).reset_index(drop=True)\n",
      "C:\\Users\\jiyen\\AppData\\Local\\Temp\\ipykernel_26540\\2638533007.py:21: DeprecationWarning: DataFrameGroupBy.apply operated on the grouping columns. This behavior is deprecated, and in a future version of pandas the grouping columns will be excluded from the operation. Either pass `include_groups=False` to exclude the groupings or explicitly select the grouping columns after groupby to silence this warning.\n",
      "  chunk = chunk.groupby('business_id').apply(lambda df: df.sample(min(len(df), REVIEW_SAMPLE_PER_BIZ))).reset_index(drop=True)\n",
      "C:\\Users\\jiyen\\AppData\\Local\\Temp\\ipykernel_26540\\2638533007.py:21: DeprecationWarning: DataFrameGroupBy.apply operated on the grouping columns. This behavior is deprecated, and in a future version of pandas the grouping columns will be excluded from the operation. Either pass `include_groups=False` to exclude the groupings or explicitly select the grouping columns after groupby to silence this warning.\n",
      "  chunk = chunk.groupby('business_id').apply(lambda df: df.sample(min(len(df), REVIEW_SAMPLE_PER_BIZ))).reset_index(drop=True)\n",
      "C:\\Users\\jiyen\\AppData\\Local\\Temp\\ipykernel_26540\\2638533007.py:21: DeprecationWarning: DataFrameGroupBy.apply operated on the grouping columns. This behavior is deprecated, and in a future version of pandas the grouping columns will be excluded from the operation. Either pass `include_groups=False` to exclude the groupings or explicitly select the grouping columns after groupby to silence this warning.\n",
      "  chunk = chunk.groupby('business_id').apply(lambda df: df.sample(min(len(df), REVIEW_SAMPLE_PER_BIZ))).reset_index(drop=True)\n",
      "C:\\Users\\jiyen\\AppData\\Local\\Temp\\ipykernel_26540\\2638533007.py:21: DeprecationWarning: DataFrameGroupBy.apply operated on the grouping columns. This behavior is deprecated, and in a future version of pandas the grouping columns will be excluded from the operation. Either pass `include_groups=False` to exclude the groupings or explicitly select the grouping columns after groupby to silence this warning.\n",
      "  chunk = chunk.groupby('business_id').apply(lambda df: df.sample(min(len(df), REVIEW_SAMPLE_PER_BIZ))).reset_index(drop=True)\n",
      "C:\\Users\\jiyen\\AppData\\Local\\Temp\\ipykernel_26540\\2638533007.py:21: DeprecationWarning: DataFrameGroupBy.apply operated on the grouping columns. This behavior is deprecated, and in a future version of pandas the grouping columns will be excluded from the operation. Either pass `include_groups=False` to exclude the groupings or explicitly select the grouping columns after groupby to silence this warning.\n",
      "  chunk = chunk.groupby('business_id').apply(lambda df: df.sample(min(len(df), REVIEW_SAMPLE_PER_BIZ))).reset_index(drop=True)\n",
      "C:\\Users\\jiyen\\AppData\\Local\\Temp\\ipykernel_26540\\2638533007.py:21: DeprecationWarning: DataFrameGroupBy.apply operated on the grouping columns. This behavior is deprecated, and in a future version of pandas the grouping columns will be excluded from the operation. Either pass `include_groups=False` to exclude the groupings or explicitly select the grouping columns after groupby to silence this warning.\n",
      "  chunk = chunk.groupby('business_id').apply(lambda df: df.sample(min(len(df), REVIEW_SAMPLE_PER_BIZ))).reset_index(drop=True)\n",
      "C:\\Users\\jiyen\\AppData\\Local\\Temp\\ipykernel_26540\\2638533007.py:21: DeprecationWarning: DataFrameGroupBy.apply operated on the grouping columns. This behavior is deprecated, and in a future version of pandas the grouping columns will be excluded from the operation. Either pass `include_groups=False` to exclude the groupings or explicitly select the grouping columns after groupby to silence this warning.\n",
      "  chunk = chunk.groupby('business_id').apply(lambda df: df.sample(min(len(df), REVIEW_SAMPLE_PER_BIZ))).reset_index(drop=True)\n",
      "C:\\Users\\jiyen\\AppData\\Local\\Temp\\ipykernel_26540\\2638533007.py:21: DeprecationWarning: DataFrameGroupBy.apply operated on the grouping columns. This behavior is deprecated, and in a future version of pandas the grouping columns will be excluded from the operation. Either pass `include_groups=False` to exclude the groupings or explicitly select the grouping columns after groupby to silence this warning.\n",
      "  chunk = chunk.groupby('business_id').apply(lambda df: df.sample(min(len(df), REVIEW_SAMPLE_PER_BIZ))).reset_index(drop=True)\n",
      "C:\\Users\\jiyen\\AppData\\Local\\Temp\\ipykernel_26540\\2638533007.py:21: DeprecationWarning: DataFrameGroupBy.apply operated on the grouping columns. This behavior is deprecated, and in a future version of pandas the grouping columns will be excluded from the operation. Either pass `include_groups=False` to exclude the groupings or explicitly select the grouping columns after groupby to silence this warning.\n",
      "  chunk = chunk.groupby('business_id').apply(lambda df: df.sample(min(len(df), REVIEW_SAMPLE_PER_BIZ))).reset_index(drop=True)\n",
      "C:\\Users\\jiyen\\AppData\\Local\\Temp\\ipykernel_26540\\2638533007.py:21: DeprecationWarning: DataFrameGroupBy.apply operated on the grouping columns. This behavior is deprecated, and in a future version of pandas the grouping columns will be excluded from the operation. Either pass `include_groups=False` to exclude the groupings or explicitly select the grouping columns after groupby to silence this warning.\n",
      "  chunk = chunk.groupby('business_id').apply(lambda df: df.sample(min(len(df), REVIEW_SAMPLE_PER_BIZ))).reset_index(drop=True)\n",
      "C:\\Users\\jiyen\\AppData\\Local\\Temp\\ipykernel_26540\\2638533007.py:21: DeprecationWarning: DataFrameGroupBy.apply operated on the grouping columns. This behavior is deprecated, and in a future version of pandas the grouping columns will be excluded from the operation. Either pass `include_groups=False` to exclude the groupings or explicitly select the grouping columns after groupby to silence this warning.\n",
      "  chunk = chunk.groupby('business_id').apply(lambda df: df.sample(min(len(df), REVIEW_SAMPLE_PER_BIZ))).reset_index(drop=True)\n",
      "C:\\Users\\jiyen\\AppData\\Local\\Temp\\ipykernel_26540\\2638533007.py:21: DeprecationWarning: DataFrameGroupBy.apply operated on the grouping columns. This behavior is deprecated, and in a future version of pandas the grouping columns will be excluded from the operation. Either pass `include_groups=False` to exclude the groupings or explicitly select the grouping columns after groupby to silence this warning.\n",
      "  chunk = chunk.groupby('business_id').apply(lambda df: df.sample(min(len(df), REVIEW_SAMPLE_PER_BIZ))).reset_index(drop=True)\n",
      "C:\\Users\\jiyen\\AppData\\Local\\Temp\\ipykernel_26540\\2638533007.py:21: DeprecationWarning: DataFrameGroupBy.apply operated on the grouping columns. This behavior is deprecated, and in a future version of pandas the grouping columns will be excluded from the operation. Either pass `include_groups=False` to exclude the groupings or explicitly select the grouping columns after groupby to silence this warning.\n",
      "  chunk = chunk.groupby('business_id').apply(lambda df: df.sample(min(len(df), REVIEW_SAMPLE_PER_BIZ))).reset_index(drop=True)\n",
      "C:\\Users\\jiyen\\AppData\\Local\\Temp\\ipykernel_26540\\2638533007.py:21: DeprecationWarning: DataFrameGroupBy.apply operated on the grouping columns. This behavior is deprecated, and in a future version of pandas the grouping columns will be excluded from the operation. Either pass `include_groups=False` to exclude the groupings or explicitly select the grouping columns after groupby to silence this warning.\n",
      "  chunk = chunk.groupby('business_id').apply(lambda df: df.sample(min(len(df), REVIEW_SAMPLE_PER_BIZ))).reset_index(drop=True)\n",
      "C:\\Users\\jiyen\\AppData\\Local\\Temp\\ipykernel_26540\\2638533007.py:21: DeprecationWarning: DataFrameGroupBy.apply operated on the grouping columns. This behavior is deprecated, and in a future version of pandas the grouping columns will be excluded from the operation. Either pass `include_groups=False` to exclude the groupings or explicitly select the grouping columns after groupby to silence this warning.\n",
      "  chunk = chunk.groupby('business_id').apply(lambda df: df.sample(min(len(df), REVIEW_SAMPLE_PER_BIZ))).reset_index(drop=True)\n",
      "C:\\Users\\jiyen\\AppData\\Local\\Temp\\ipykernel_26540\\2638533007.py:21: DeprecationWarning: DataFrameGroupBy.apply operated on the grouping columns. This behavior is deprecated, and in a future version of pandas the grouping columns will be excluded from the operation. Either pass `include_groups=False` to exclude the groupings or explicitly select the grouping columns after groupby to silence this warning.\n",
      "  chunk = chunk.groupby('business_id').apply(lambda df: df.sample(min(len(df), REVIEW_SAMPLE_PER_BIZ))).reset_index(drop=True)\n",
      "C:\\Users\\jiyen\\AppData\\Local\\Temp\\ipykernel_26540\\2638533007.py:21: DeprecationWarning: DataFrameGroupBy.apply operated on the grouping columns. This behavior is deprecated, and in a future version of pandas the grouping columns will be excluded from the operation. Either pass `include_groups=False` to exclude the groupings or explicitly select the grouping columns after groupby to silence this warning.\n",
      "  chunk = chunk.groupby('business_id').apply(lambda df: df.sample(min(len(df), REVIEW_SAMPLE_PER_BIZ))).reset_index(drop=True)\n",
      "C:\\Users\\jiyen\\AppData\\Local\\Temp\\ipykernel_26540\\2638533007.py:21: DeprecationWarning: DataFrameGroupBy.apply operated on the grouping columns. This behavior is deprecated, and in a future version of pandas the grouping columns will be excluded from the operation. Either pass `include_groups=False` to exclude the groupings or explicitly select the grouping columns after groupby to silence this warning.\n",
      "  chunk = chunk.groupby('business_id').apply(lambda df: df.sample(min(len(df), REVIEW_SAMPLE_PER_BIZ))).reset_index(drop=True)\n",
      "C:\\Users\\jiyen\\AppData\\Local\\Temp\\ipykernel_26540\\2638533007.py:21: DeprecationWarning: DataFrameGroupBy.apply operated on the grouping columns. This behavior is deprecated, and in a future version of pandas the grouping columns will be excluded from the operation. Either pass `include_groups=False` to exclude the groupings or explicitly select the grouping columns after groupby to silence this warning.\n",
      "  chunk = chunk.groupby('business_id').apply(lambda df: df.sample(min(len(df), REVIEW_SAMPLE_PER_BIZ))).reset_index(drop=True)\n",
      "C:\\Users\\jiyen\\AppData\\Local\\Temp\\ipykernel_26540\\2638533007.py:21: DeprecationWarning: DataFrameGroupBy.apply operated on the grouping columns. This behavior is deprecated, and in a future version of pandas the grouping columns will be excluded from the operation. Either pass `include_groups=False` to exclude the groupings or explicitly select the grouping columns after groupby to silence this warning.\n",
      "  chunk = chunk.groupby('business_id').apply(lambda df: df.sample(min(len(df), REVIEW_SAMPLE_PER_BIZ))).reset_index(drop=True)\n",
      "C:\\Users\\jiyen\\AppData\\Local\\Temp\\ipykernel_26540\\2638533007.py:21: DeprecationWarning: DataFrameGroupBy.apply operated on the grouping columns. This behavior is deprecated, and in a future version of pandas the grouping columns will be excluded from the operation. Either pass `include_groups=False` to exclude the groupings or explicitly select the grouping columns after groupby to silence this warning.\n",
      "  chunk = chunk.groupby('business_id').apply(lambda df: df.sample(min(len(df), REVIEW_SAMPLE_PER_BIZ))).reset_index(drop=True)\n",
      "C:\\Users\\jiyen\\AppData\\Local\\Temp\\ipykernel_26540\\2638533007.py:21: DeprecationWarning: DataFrameGroupBy.apply operated on the grouping columns. This behavior is deprecated, and in a future version of pandas the grouping columns will be excluded from the operation. Either pass `include_groups=False` to exclude the groupings or explicitly select the grouping columns after groupby to silence this warning.\n",
      "  chunk = chunk.groupby('business_id').apply(lambda df: df.sample(min(len(df), REVIEW_SAMPLE_PER_BIZ))).reset_index(drop=True)\n",
      "C:\\Users\\jiyen\\AppData\\Local\\Temp\\ipykernel_26540\\2638533007.py:21: DeprecationWarning: DataFrameGroupBy.apply operated on the grouping columns. This behavior is deprecated, and in a future version of pandas the grouping columns will be excluded from the operation. Either pass `include_groups=False` to exclude the groupings or explicitly select the grouping columns after groupby to silence this warning.\n",
      "  chunk = chunk.groupby('business_id').apply(lambda df: df.sample(min(len(df), REVIEW_SAMPLE_PER_BIZ))).reset_index(drop=True)\n",
      "C:\\Users\\jiyen\\AppData\\Local\\Temp\\ipykernel_26540\\2638533007.py:21: DeprecationWarning: DataFrameGroupBy.apply operated on the grouping columns. This behavior is deprecated, and in a future version of pandas the grouping columns will be excluded from the operation. Either pass `include_groups=False` to exclude the groupings or explicitly select the grouping columns after groupby to silence this warning.\n",
      "  chunk = chunk.groupby('business_id').apply(lambda df: df.sample(min(len(df), REVIEW_SAMPLE_PER_BIZ))).reset_index(drop=True)\n",
      "C:\\Users\\jiyen\\AppData\\Local\\Temp\\ipykernel_26540\\2638533007.py:21: DeprecationWarning: DataFrameGroupBy.apply operated on the grouping columns. This behavior is deprecated, and in a future version of pandas the grouping columns will be excluded from the operation. Either pass `include_groups=False` to exclude the groupings or explicitly select the grouping columns after groupby to silence this warning.\n",
      "  chunk = chunk.groupby('business_id').apply(lambda df: df.sample(min(len(df), REVIEW_SAMPLE_PER_BIZ))).reset_index(drop=True)\n",
      "C:\\Users\\jiyen\\AppData\\Local\\Temp\\ipykernel_26540\\2638533007.py:21: DeprecationWarning: DataFrameGroupBy.apply operated on the grouping columns. This behavior is deprecated, and in a future version of pandas the grouping columns will be excluded from the operation. Either pass `include_groups=False` to exclude the groupings or explicitly select the grouping columns after groupby to silence this warning.\n",
      "  chunk = chunk.groupby('business_id').apply(lambda df: df.sample(min(len(df), REVIEW_SAMPLE_PER_BIZ))).reset_index(drop=True)\n",
      "C:\\Users\\jiyen\\AppData\\Local\\Temp\\ipykernel_26540\\2638533007.py:21: DeprecationWarning: DataFrameGroupBy.apply operated on the grouping columns. This behavior is deprecated, and in a future version of pandas the grouping columns will be excluded from the operation. Either pass `include_groups=False` to exclude the groupings or explicitly select the grouping columns after groupby to silence this warning.\n",
      "  chunk = chunk.groupby('business_id').apply(lambda df: df.sample(min(len(df), REVIEW_SAMPLE_PER_BIZ))).reset_index(drop=True)\n",
      "C:\\Users\\jiyen\\AppData\\Local\\Temp\\ipykernel_26540\\2638533007.py:21: DeprecationWarning: DataFrameGroupBy.apply operated on the grouping columns. This behavior is deprecated, and in a future version of pandas the grouping columns will be excluded from the operation. Either pass `include_groups=False` to exclude the groupings or explicitly select the grouping columns after groupby to silence this warning.\n",
      "  chunk = chunk.groupby('business_id').apply(lambda df: df.sample(min(len(df), REVIEW_SAMPLE_PER_BIZ))).reset_index(drop=True)\n",
      "C:\\Users\\jiyen\\AppData\\Local\\Temp\\ipykernel_26540\\2638533007.py:21: DeprecationWarning: DataFrameGroupBy.apply operated on the grouping columns. This behavior is deprecated, and in a future version of pandas the grouping columns will be excluded from the operation. Either pass `include_groups=False` to exclude the groupings or explicitly select the grouping columns after groupby to silence this warning.\n",
      "  chunk = chunk.groupby('business_id').apply(lambda df: df.sample(min(len(df), REVIEW_SAMPLE_PER_BIZ))).reset_index(drop=True)\n",
      "C:\\Users\\jiyen\\AppData\\Local\\Temp\\ipykernel_26540\\2638533007.py:21: DeprecationWarning: DataFrameGroupBy.apply operated on the grouping columns. This behavior is deprecated, and in a future version of pandas the grouping columns will be excluded from the operation. Either pass `include_groups=False` to exclude the groupings or explicitly select the grouping columns after groupby to silence this warning.\n",
      "  chunk = chunk.groupby('business_id').apply(lambda df: df.sample(min(len(df), REVIEW_SAMPLE_PER_BIZ))).reset_index(drop=True)\n",
      "C:\\Users\\jiyen\\AppData\\Local\\Temp\\ipykernel_26540\\2638533007.py:21: DeprecationWarning: DataFrameGroupBy.apply operated on the grouping columns. This behavior is deprecated, and in a future version of pandas the grouping columns will be excluded from the operation. Either pass `include_groups=False` to exclude the groupings or explicitly select the grouping columns after groupby to silence this warning.\n",
      "  chunk = chunk.groupby('business_id').apply(lambda df: df.sample(min(len(df), REVIEW_SAMPLE_PER_BIZ))).reset_index(drop=True)\n",
      "C:\\Users\\jiyen\\AppData\\Local\\Temp\\ipykernel_26540\\2638533007.py:21: DeprecationWarning: DataFrameGroupBy.apply operated on the grouping columns. This behavior is deprecated, and in a future version of pandas the grouping columns will be excluded from the operation. Either pass `include_groups=False` to exclude the groupings or explicitly select the grouping columns after groupby to silence this warning.\n",
      "  chunk = chunk.groupby('business_id').apply(lambda df: df.sample(min(len(df), REVIEW_SAMPLE_PER_BIZ))).reset_index(drop=True)\n",
      "C:\\Users\\jiyen\\AppData\\Local\\Temp\\ipykernel_26540\\2638533007.py:21: DeprecationWarning: DataFrameGroupBy.apply operated on the grouping columns. This behavior is deprecated, and in a future version of pandas the grouping columns will be excluded from the operation. Either pass `include_groups=False` to exclude the groupings or explicitly select the grouping columns after groupby to silence this warning.\n",
      "  chunk = chunk.groupby('business_id').apply(lambda df: df.sample(min(len(df), REVIEW_SAMPLE_PER_BIZ))).reset_index(drop=True)\n",
      "C:\\Users\\jiyen\\AppData\\Local\\Temp\\ipykernel_26540\\2638533007.py:21: DeprecationWarning: DataFrameGroupBy.apply operated on the grouping columns. This behavior is deprecated, and in a future version of pandas the grouping columns will be excluded from the operation. Either pass `include_groups=False` to exclude the groupings or explicitly select the grouping columns after groupby to silence this warning.\n",
      "  chunk = chunk.groupby('business_id').apply(lambda df: df.sample(min(len(df), REVIEW_SAMPLE_PER_BIZ))).reset_index(drop=True)\n",
      "C:\\Users\\jiyen\\AppData\\Local\\Temp\\ipykernel_26540\\2638533007.py:21: DeprecationWarning: DataFrameGroupBy.apply operated on the grouping columns. This behavior is deprecated, and in a future version of pandas the grouping columns will be excluded from the operation. Either pass `include_groups=False` to exclude the groupings or explicitly select the grouping columns after groupby to silence this warning.\n",
      "  chunk = chunk.groupby('business_id').apply(lambda df: df.sample(min(len(df), REVIEW_SAMPLE_PER_BIZ))).reset_index(drop=True)\n",
      "C:\\Users\\jiyen\\AppData\\Local\\Temp\\ipykernel_26540\\2638533007.py:21: DeprecationWarning: DataFrameGroupBy.apply operated on the grouping columns. This behavior is deprecated, and in a future version of pandas the grouping columns will be excluded from the operation. Either pass `include_groups=False` to exclude the groupings or explicitly select the grouping columns after groupby to silence this warning.\n",
      "  chunk = chunk.groupby('business_id').apply(lambda df: df.sample(min(len(df), REVIEW_SAMPLE_PER_BIZ))).reset_index(drop=True)\n",
      "C:\\Users\\jiyen\\AppData\\Local\\Temp\\ipykernel_26540\\2638533007.py:21: DeprecationWarning: DataFrameGroupBy.apply operated on the grouping columns. This behavior is deprecated, and in a future version of pandas the grouping columns will be excluded from the operation. Either pass `include_groups=False` to exclude the groupings or explicitly select the grouping columns after groupby to silence this warning.\n",
      "  chunk = chunk.groupby('business_id').apply(lambda df: df.sample(min(len(df), REVIEW_SAMPLE_PER_BIZ))).reset_index(drop=True)\n",
      "C:\\Users\\jiyen\\AppData\\Local\\Temp\\ipykernel_26540\\2638533007.py:21: DeprecationWarning: DataFrameGroupBy.apply operated on the grouping columns. This behavior is deprecated, and in a future version of pandas the grouping columns will be excluded from the operation. Either pass `include_groups=False` to exclude the groupings or explicitly select the grouping columns after groupby to silence this warning.\n",
      "  chunk = chunk.groupby('business_id').apply(lambda df: df.sample(min(len(df), REVIEW_SAMPLE_PER_BIZ))).reset_index(drop=True)\n",
      "C:\\Users\\jiyen\\AppData\\Local\\Temp\\ipykernel_26540\\2638533007.py:21: DeprecationWarning: DataFrameGroupBy.apply operated on the grouping columns. This behavior is deprecated, and in a future version of pandas the grouping columns will be excluded from the operation. Either pass `include_groups=False` to exclude the groupings or explicitly select the grouping columns after groupby to silence this warning.\n",
      "  chunk = chunk.groupby('business_id').apply(lambda df: df.sample(min(len(df), REVIEW_SAMPLE_PER_BIZ))).reset_index(drop=True)\n",
      "C:\\Users\\jiyen\\AppData\\Local\\Temp\\ipykernel_26540\\2638533007.py:21: DeprecationWarning: DataFrameGroupBy.apply operated on the grouping columns. This behavior is deprecated, and in a future version of pandas the grouping columns will be excluded from the operation. Either pass `include_groups=False` to exclude the groupings or explicitly select the grouping columns after groupby to silence this warning.\n",
      "  chunk = chunk.groupby('business_id').apply(lambda df: df.sample(min(len(df), REVIEW_SAMPLE_PER_BIZ))).reset_index(drop=True)\n",
      "C:\\Users\\jiyen\\AppData\\Local\\Temp\\ipykernel_26540\\2638533007.py:21: DeprecationWarning: DataFrameGroupBy.apply operated on the grouping columns. This behavior is deprecated, and in a future version of pandas the grouping columns will be excluded from the operation. Either pass `include_groups=False` to exclude the groupings or explicitly select the grouping columns after groupby to silence this warning.\n",
      "  chunk = chunk.groupby('business_id').apply(lambda df: df.sample(min(len(df), REVIEW_SAMPLE_PER_BIZ))).reset_index(drop=True)\n",
      "C:\\Users\\jiyen\\AppData\\Local\\Temp\\ipykernel_26540\\2638533007.py:21: DeprecationWarning: DataFrameGroupBy.apply operated on the grouping columns. This behavior is deprecated, and in a future version of pandas the grouping columns will be excluded from the operation. Either pass `include_groups=False` to exclude the groupings or explicitly select the grouping columns after groupby to silence this warning.\n",
      "  chunk = chunk.groupby('business_id').apply(lambda df: df.sample(min(len(df), REVIEW_SAMPLE_PER_BIZ))).reset_index(drop=True)\n",
      "C:\\Users\\jiyen\\AppData\\Local\\Temp\\ipykernel_26540\\2638533007.py:21: DeprecationWarning: DataFrameGroupBy.apply operated on the grouping columns. This behavior is deprecated, and in a future version of pandas the grouping columns will be excluded from the operation. Either pass `include_groups=False` to exclude the groupings or explicitly select the grouping columns after groupby to silence this warning.\n",
      "  chunk = chunk.groupby('business_id').apply(lambda df: df.sample(min(len(df), REVIEW_SAMPLE_PER_BIZ))).reset_index(drop=True)\n",
      "C:\\Users\\jiyen\\AppData\\Local\\Temp\\ipykernel_26540\\2638533007.py:21: DeprecationWarning: DataFrameGroupBy.apply operated on the grouping columns. This behavior is deprecated, and in a future version of pandas the grouping columns will be excluded from the operation. Either pass `include_groups=False` to exclude the groupings or explicitly select the grouping columns after groupby to silence this warning.\n",
      "  chunk = chunk.groupby('business_id').apply(lambda df: df.sample(min(len(df), REVIEW_SAMPLE_PER_BIZ))).reset_index(drop=True)\n",
      "C:\\Users\\jiyen\\AppData\\Local\\Temp\\ipykernel_26540\\2638533007.py:21: DeprecationWarning: DataFrameGroupBy.apply operated on the grouping columns. This behavior is deprecated, and in a future version of pandas the grouping columns will be excluded from the operation. Either pass `include_groups=False` to exclude the groupings or explicitly select the grouping columns after groupby to silence this warning.\n",
      "  chunk = chunk.groupby('business_id').apply(lambda df: df.sample(min(len(df), REVIEW_SAMPLE_PER_BIZ))).reset_index(drop=True)\n",
      "C:\\Users\\jiyen\\AppData\\Local\\Temp\\ipykernel_26540\\2638533007.py:21: DeprecationWarning: DataFrameGroupBy.apply operated on the grouping columns. This behavior is deprecated, and in a future version of pandas the grouping columns will be excluded from the operation. Either pass `include_groups=False` to exclude the groupings or explicitly select the grouping columns after groupby to silence this warning.\n",
      "  chunk = chunk.groupby('business_id').apply(lambda df: df.sample(min(len(df), REVIEW_SAMPLE_PER_BIZ))).reset_index(drop=True)\n",
      "C:\\Users\\jiyen\\AppData\\Local\\Temp\\ipykernel_26540\\2638533007.py:21: DeprecationWarning: DataFrameGroupBy.apply operated on the grouping columns. This behavior is deprecated, and in a future version of pandas the grouping columns will be excluded from the operation. Either pass `include_groups=False` to exclude the groupings or explicitly select the grouping columns after groupby to silence this warning.\n",
      "  chunk = chunk.groupby('business_id').apply(lambda df: df.sample(min(len(df), REVIEW_SAMPLE_PER_BIZ))).reset_index(drop=True)\n",
      "C:\\Users\\jiyen\\AppData\\Local\\Temp\\ipykernel_26540\\2638533007.py:21: DeprecationWarning: DataFrameGroupBy.apply operated on the grouping columns. This behavior is deprecated, and in a future version of pandas the grouping columns will be excluded from the operation. Either pass `include_groups=False` to exclude the groupings or explicitly select the grouping columns after groupby to silence this warning.\n",
      "  chunk = chunk.groupby('business_id').apply(lambda df: df.sample(min(len(df), REVIEW_SAMPLE_PER_BIZ))).reset_index(drop=True)\n",
      "C:\\Users\\jiyen\\AppData\\Local\\Temp\\ipykernel_26540\\2638533007.py:21: DeprecationWarning: DataFrameGroupBy.apply operated on the grouping columns. This behavior is deprecated, and in a future version of pandas the grouping columns will be excluded from the operation. Either pass `include_groups=False` to exclude the groupings or explicitly select the grouping columns after groupby to silence this warning.\n",
      "  chunk = chunk.groupby('business_id').apply(lambda df: df.sample(min(len(df), REVIEW_SAMPLE_PER_BIZ))).reset_index(drop=True)\n",
      "C:\\Users\\jiyen\\AppData\\Local\\Temp\\ipykernel_26540\\2638533007.py:21: DeprecationWarning: DataFrameGroupBy.apply operated on the grouping columns. This behavior is deprecated, and in a future version of pandas the grouping columns will be excluded from the operation. Either pass `include_groups=False` to exclude the groupings or explicitly select the grouping columns after groupby to silence this warning.\n",
      "  chunk = chunk.groupby('business_id').apply(lambda df: df.sample(min(len(df), REVIEW_SAMPLE_PER_BIZ))).reset_index(drop=True)\n",
      "C:\\Users\\jiyen\\AppData\\Local\\Temp\\ipykernel_26540\\2638533007.py:21: DeprecationWarning: DataFrameGroupBy.apply operated on the grouping columns. This behavior is deprecated, and in a future version of pandas the grouping columns will be excluded from the operation. Either pass `include_groups=False` to exclude the groupings or explicitly select the grouping columns after groupby to silence this warning.\n",
      "  chunk = chunk.groupby('business_id').apply(lambda df: df.sample(min(len(df), REVIEW_SAMPLE_PER_BIZ))).reset_index(drop=True)\n",
      "C:\\Users\\jiyen\\AppData\\Local\\Temp\\ipykernel_26540\\2638533007.py:21: DeprecationWarning: DataFrameGroupBy.apply operated on the grouping columns. This behavior is deprecated, and in a future version of pandas the grouping columns will be excluded from the operation. Either pass `include_groups=False` to exclude the groupings or explicitly select the grouping columns after groupby to silence this warning.\n",
      "  chunk = chunk.groupby('business_id').apply(lambda df: df.sample(min(len(df), REVIEW_SAMPLE_PER_BIZ))).reset_index(drop=True)\n",
      "C:\\Users\\jiyen\\AppData\\Local\\Temp\\ipykernel_26540\\2638533007.py:21: DeprecationWarning: DataFrameGroupBy.apply operated on the grouping columns. This behavior is deprecated, and in a future version of pandas the grouping columns will be excluded from the operation. Either pass `include_groups=False` to exclude the groupings or explicitly select the grouping columns after groupby to silence this warning.\n",
      "  chunk = chunk.groupby('business_id').apply(lambda df: df.sample(min(len(df), REVIEW_SAMPLE_PER_BIZ))).reset_index(drop=True)\n",
      "C:\\Users\\jiyen\\AppData\\Local\\Temp\\ipykernel_26540\\2638533007.py:21: DeprecationWarning: DataFrameGroupBy.apply operated on the grouping columns. This behavior is deprecated, and in a future version of pandas the grouping columns will be excluded from the operation. Either pass `include_groups=False` to exclude the groupings or explicitly select the grouping columns after groupby to silence this warning.\n",
      "  chunk = chunk.groupby('business_id').apply(lambda df: df.sample(min(len(df), REVIEW_SAMPLE_PER_BIZ))).reset_index(drop=True)\n",
      "C:\\Users\\jiyen\\AppData\\Local\\Temp\\ipykernel_26540\\2638533007.py:21: DeprecationWarning: DataFrameGroupBy.apply operated on the grouping columns. This behavior is deprecated, and in a future version of pandas the grouping columns will be excluded from the operation. Either pass `include_groups=False` to exclude the groupings or explicitly select the grouping columns after groupby to silence this warning.\n",
      "  chunk = chunk.groupby('business_id').apply(lambda df: df.sample(min(len(df), REVIEW_SAMPLE_PER_BIZ))).reset_index(drop=True)\n",
      "C:\\Users\\jiyen\\AppData\\Local\\Temp\\ipykernel_26540\\2638533007.py:21: DeprecationWarning: DataFrameGroupBy.apply operated on the grouping columns. This behavior is deprecated, and in a future version of pandas the grouping columns will be excluded from the operation. Either pass `include_groups=False` to exclude the groupings or explicitly select the grouping columns after groupby to silence this warning.\n",
      "  chunk = chunk.groupby('business_id').apply(lambda df: df.sample(min(len(df), REVIEW_SAMPLE_PER_BIZ))).reset_index(drop=True)\n",
      "C:\\Users\\jiyen\\AppData\\Local\\Temp\\ipykernel_26540\\2638533007.py:21: DeprecationWarning: DataFrameGroupBy.apply operated on the grouping columns. This behavior is deprecated, and in a future version of pandas the grouping columns will be excluded from the operation. Either pass `include_groups=False` to exclude the groupings or explicitly select the grouping columns after groupby to silence this warning.\n",
      "  chunk = chunk.groupby('business_id').apply(lambda df: df.sample(min(len(df), REVIEW_SAMPLE_PER_BIZ))).reset_index(drop=True)\n",
      "C:\\Users\\jiyen\\AppData\\Local\\Temp\\ipykernel_26540\\2638533007.py:21: DeprecationWarning: DataFrameGroupBy.apply operated on the grouping columns. This behavior is deprecated, and in a future version of pandas the grouping columns will be excluded from the operation. Either pass `include_groups=False` to exclude the groupings or explicitly select the grouping columns after groupby to silence this warning.\n",
      "  chunk = chunk.groupby('business_id').apply(lambda df: df.sample(min(len(df), REVIEW_SAMPLE_PER_BIZ))).reset_index(drop=True)\n",
      "C:\\Users\\jiyen\\AppData\\Local\\Temp\\ipykernel_26540\\2638533007.py:21: DeprecationWarning: DataFrameGroupBy.apply operated on the grouping columns. This behavior is deprecated, and in a future version of pandas the grouping columns will be excluded from the operation. Either pass `include_groups=False` to exclude the groupings or explicitly select the grouping columns after groupby to silence this warning.\n",
      "  chunk = chunk.groupby('business_id').apply(lambda df: df.sample(min(len(df), REVIEW_SAMPLE_PER_BIZ))).reset_index(drop=True)\n",
      "C:\\Users\\jiyen\\AppData\\Local\\Temp\\ipykernel_26540\\2638533007.py:21: DeprecationWarning: DataFrameGroupBy.apply operated on the grouping columns. This behavior is deprecated, and in a future version of pandas the grouping columns will be excluded from the operation. Either pass `include_groups=False` to exclude the groupings or explicitly select the grouping columns after groupby to silence this warning.\n",
      "  chunk = chunk.groupby('business_id').apply(lambda df: df.sample(min(len(df), REVIEW_SAMPLE_PER_BIZ))).reset_index(drop=True)\n",
      "C:\\Users\\jiyen\\AppData\\Local\\Temp\\ipykernel_26540\\2638533007.py:21: DeprecationWarning: DataFrameGroupBy.apply operated on the grouping columns. This behavior is deprecated, and in a future version of pandas the grouping columns will be excluded from the operation. Either pass `include_groups=False` to exclude the groupings or explicitly select the grouping columns after groupby to silence this warning.\n",
      "  chunk = chunk.groupby('business_id').apply(lambda df: df.sample(min(len(df), REVIEW_SAMPLE_PER_BIZ))).reset_index(drop=True)\n"
     ]
    }
   ],
   "source": [
    "# 2) Reviews\n",
    "analyzer = SentimentIntensityAnalyzer()\n",
    "biz_ids = set(biz.business_id)\n",
    "reader = pd.read_json(\"Data/review.json\", lines=True, chunksize=100000)\n",
    "out_reviews = []\n",
    "for chunk in reader:\n",
    "    # filter by business\n",
    "    chunk = chunk[chunk.business_id.isin(biz_ids)]\n",
    "    if chunk.empty:\n",
    "        continue\n",
    "    # parse date\n",
    "    chunk[\"dts\"] = pd.to_datetime(chunk.date, errors='coerce')\n",
    "    chunk = chunk[(chunk.dts >= DATE_MIN) & (chunk.dts <= DATE_MAX)]\n",
    "    # length & stars\n",
    "    chunk = chunk[(chunk.text.str.len() >= 20) & (chunk.stars.between(1,5))]\n",
    "    # sentiment filter\n",
    "    chunk['s'] = chunk.text.map(lambda t: analyzer.polarity_scores(t)['compound'])\n",
    "    # keep neutral to mixed\n",
    "    chunk = chunk[chunk.s.abs() < 0.8]\n",
    "    # sample per business\n",
    "    chunk = chunk.groupby('business_id').apply(lambda df: df.sample(min(len(df), REVIEW_SAMPLE_PER_BIZ))).reset_index(drop=True)\n",
    "    out_reviews.append(chunk)"
   ]
  },
  {
   "cell_type": "code",
   "execution_count": 6,
   "id": "150d3c11",
   "metadata": {},
   "outputs": [
    {
     "name": "stdout",
     "output_type": "stream",
     "text": [
      "Saved 60935 reviews\n"
     ]
    }
   ],
   "source": [
    "reviews = pd.concat(out_reviews, ignore_index=True)\n",
    "reviews.to_csv(os.path.join(OUTPUT_DIR, \"review_small.csv\"), index=False)\n",
    "print(f\"Saved {len(reviews)} reviews\")"
   ]
  },
  {
   "cell_type": "code",
   "execution_count": 7,
   "id": "6c9764ae",
   "metadata": {},
   "outputs": [
    {
     "name": "stdout",
     "output_type": "stream",
     "text": [
      "Saved 43368 users\n"
     ]
    }
   ],
   "source": [
    "# 3) Users\n",
    "usr_ids = set(reviews.user_id)\n",
    "reader = pd.read_json(\"Data/user.json\", lines=True, chunksize=50000)\n",
    "out_users = []\n",
    "for chunk in reader:\n",
    "    chunk = chunk[chunk.user_id.isin(usr_ids)]\n",
    "    # enforce activity\n",
    "    chunk = chunk[chunk.review_count >= MIN_USER_REVIEWS]\n",
    "    out_users.append(chunk)\n",
    "users = pd.concat(out_users, ignore_index=True)\n",
    "users.to_csv(os.path.join(OUTPUT_DIR, \"user_small.csv\"), index=False)\n",
    "print(f\"Saved {len(users)} users\")"
   ]
  },
  {
   "cell_type": "code",
   "execution_count": 13,
   "id": "bccd4776",
   "metadata": {},
   "outputs": [
    {
     "name": "stdout",
     "output_type": "stream",
     "text": [
      "Saved 1304861 checkins\n"
     ]
    }
   ],
   "source": [
    "# 4) Checkins (fast, limited)\n",
    "chk = pd.read_json(\"Data/checkin.json\", lines=True)\n",
    "chk = chk[chk.business_id.isin(biz_ids)]\n",
    "chk = chk.head(1000)  # limit for speed\n",
    "# extract ISO timestamps per row\n",
    "chk['times'] = chk.date.str.findall(r\"\\d{4}-\\d{2}-\\d{2} \\d{2}:\\d{2}:\\d{2}\")\n",
    "# explode lists\n",
    "chk = chk.explode('times').dropna(subset=['times'])\n",
    "chk['times'] = pd.to_datetime(chk['times'], errors='coerce')\n",
    "chk = chk.dropna(subset=['times'])\n",
    "# split into date and time columns\n",
    "chk['date'] = chk['times'].dt.date\n",
    "chk['time'] = chk['times'].dt.time\n",
    "chk = chk[['business_id', 'date', 'time']]\n",
    "# keep businesses with enough\n",
    "chk = chk.groupby('business_id').filter(lambda df: len(df) >= MIN_CHECKINS_PER_BIZ)\n",
    "chk.to_csv(os.path.join(OUTPUT_DIR, \"checkin_small.csv\"), index=False)\n",
    "print(f\"Saved {len(chk)} checkins\")\n"
   ]
  },
  {
   "cell_type": "code",
   "execution_count": 14,
   "id": "8efc5ba6",
   "metadata": {},
   "outputs": [
    {
     "name": "stdout",
     "output_type": "stream",
     "text": [
      "Saved 56044 tips\n"
     ]
    }
   ],
   "source": [
    "# 5) Tips\n",
    "tips = pd.read_json(\"Data/tip.json\", lines=True)\n",
    "# filter\n",
    "tips = tips[tips.business_id.isin(biz_ids)]\n",
    "tips['d'] = pd.to_datetime(tips.date, errors='coerce')\n",
    "tips = tips[(tips.d >= DATE_MIN) & (tips.d <= DATE_MAX)]\n",
    "tips = tips.groupby('business_id').filter(lambda df: len(df) >= MIN_TIPS_PER_BIZ)\n",
    "tips.to_csv(os.path.join(OUTPUT_DIR, \"tips_small.csv\"), index=False)\n",
    "print(f\"Saved {len(tips)} tips\")"
   ]
  }
 ],
 "metadata": {
  "kernelspec": {
   "display_name": "Python 3",
   "language": "python",
   "name": "python3"
  },
  "language_info": {
   "codemirror_mode": {
    "name": "ipython",
    "version": 3
   },
   "file_extension": ".py",
   "mimetype": "text/x-python",
   "name": "python",
   "nbconvert_exporter": "python",
   "pygments_lexer": "ipython3",
   "version": "3.12.4"
  }
 },
 "nbformat": 4,
 "nbformat_minor": 5
}
